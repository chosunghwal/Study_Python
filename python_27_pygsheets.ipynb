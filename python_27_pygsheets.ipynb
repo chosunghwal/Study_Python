{
 "cells": [
  {
   "cell_type": "markdown",
   "metadata": {},
   "source": [
    "# **파이썬으로 구글스프레드시트 다루기: `pygsheets` 패키지**"
   ]
  },
  {
   "cell_type": "markdown",
   "metadata": {},
   "source": [
    "아마도 상당히 많은 사람들이 업무 혹은 개인 용도로 구글스프레드시트를 사용하고 있을 것이다.   \n",
    "구글스프레드시트는 쉽게 말해 구글 아이디만 있다면 무료로 온라인 상에서 MS Office의 Excel의 기능을 상당 부분 사용할 수 있는 매우 편리한 애플리케이션으로, 특히 자동화와 협업에 강점을 가지고 있는 툴이라고 할 수 있다.   \n",
    "훌륭한 편의성을 갖추고 있기 때문에 구글스프레드시트를 작은 규모의 DB로 사용하기에도 무리가 없고, pygsheets 같은 패키지를 이용하면 파이썬으로 구글스프레드시트를 컨트롤 할 수 있어 꽤나 유용하다.   \n",
    "그렇다면 pygsheets를 사용해서 파이썬으로 구글스프레드시트의 데이터를 다루는 방법에 대해 알아보자.  \n",
    "여기서 커버되지 않은 더 자세한 내용은 언제나 그렇듯 공식문서 참조가 필요하다. (공식문서: https://pygsheets.readthedocs.io/en/stable/)"
   ]
  },
  {
   "cell_type": "markdown",
   "metadata": {},
   "source": [
    "## **1. Install Package 패키지 설치하기**\n",
    "운영체제에 따라 아래와 같이 패키지를 설치한다.\n",
    "- mac\n",
    "    - `$ pip install pygsheets oauth2client` (구글 API 인증을 위한 oauth2client도 함께 설치)\n",
    "- windows\n",
    "    - `$ conda install -c marta-sd pygsheets`\n",
    "    - 아래와 같은 에러가 발생하면 pip로 설치\n",
    "        - 에러 메세지: `TypeError: parse() got an unexpected keyword argument 'transport_encoding'`\n",
    "        - pip 설치 명령어\n",
    "            - `$ conda install pip`\n",
    "            - `$ pip install pygsheets`"
   ]
  },
  {
   "cell_type": "markdown",
   "metadata": {},
   "source": [
    "## **2. 구글 API 셋업 & 인증**\n",
    "파이썬으로 구글 드라이브와 구글스프레드시트에 접근하기 위해서는 아래와 같이 구글 API 셋업과 인증이 필요하다."
   ]
  },
  {
   "cell_type": "markdown",
   "metadata": {},
   "source": [
    "### 2.1 OAuth\n",
    "- 2006년에 IETF(Internet Engineering Task Force) OAuth Working Group에서 개발되고 유지보수 되는 인증을 위한 표준 프로토콜\n",
    "- 공식 문서: https://oauth.net/2/\n",
    "- https://confluence.atlassian.com/bitbucket/oauth-endpoint-300220600.html"
   ]
  },
  {
   "cell_type": "markdown",
   "metadata": {},
   "source": [
    "### 2.2 API 인증(Authorizing) 방법\n",
    "- 참고 자료: http://pygsheets.readthedocs.io/en/latest/authorizing.html\n",
    "- 설정 방법\n",
    "    1. 구글 개발자 콘솔에 접속 - https://console.developers.google.com\n",
    "    2. 왼쪽 상단의 프로젝트 만들기로 프로젝트 생성\n",
    "    ![](image/27_pygsheets/001.png)\n",
    "    3. 좌측의 `라이브러리` 탭에서 Google Sheets API, Google Drive API를 추가 (`사용 설정` 클릭)\n",
    "    4. 좌측의 `사용자 인증 정보`탭으로 이동 → OAuth 동의 화면 구성하기 → 정보 입력 후 저장 (애플리케이션 이름만 넣어도 됨)\n",
    "    7. `사용자 인증 정보`탭 → 사용자 인증정보 만들기 → OAuth 클라이언트 ID \n",
    "    9. 기타 선택 → 이름 설정후 확인 클릭\n",
    "    10. OAuth 클라이언트 생성됨 → OAuth 2.0 클라이언트 ID 항목에서 우측 다운로드 버튼 클릭 (json 확장자의 키 파일 다운로드)\n",
    "    ![](image/27_pygsheets/002.png)\n",
    "    11. 다운로드 받은 파일을 노트북파일(.ipynb)과 같은 디렉토리에 위치하도록 파일을 이동 및 파일이름을 \"client_secret.json\"으로 변경 </br>(각자 사용하기 편리한 경로와 파일명으로 설정)"
   ]
  },
  {
   "cell_type": "code",
   "execution_count": 1,
   "metadata": {},
   "outputs": [],
   "source": [
    "import pandas as pd\n",
    "import pygsheets"
   ]
  },
  {
   "cell_type": "markdown",
   "metadata": {},
   "source": [
    "아래 코드를 실행하면 auth 인증창이 실행되고 로그인 후에 허용을 하면 access_token을 받와서 입력 (처음 1회만)"
   ]
  },
  {
   "cell_type": "code",
   "execution_count": 7,
   "metadata": {},
   "outputs": [
    {
     "data": {
      "text/plain": [
       "<pygsheets.client.Client at 0x1185f65d0>"
      ]
     },
     "execution_count": 7,
     "metadata": {},
     "output_type": "execute_result"
    }
   ],
   "source": [
    "gc = pygsheets.authorize(outh_file='./Study_Python/client_secret.json')\n",
    "gc"
   ]
  },
  {
   "cell_type": "markdown",
   "metadata": {},
   "source": [
    "- windows에서 아래의 에러가 발생하면 `no_cache = True` 옵션을 설정\n",
    "    - 에러메세지: `FileNotFoundError: [Errno 2] No such file or directory`"
   ]
  },
  {
   "cell_type": "code",
   "execution_count": 1,
   "metadata": {},
   "outputs": [],
   "source": [
    "# gc = pygsheets.authorize(outh_file='client_secret.json', no_cache = True)"
   ]
  },
  {
   "cell_type": "markdown",
   "metadata": {},
   "source": [
    "## **3. Handling Sheets**"
   ]
  },
  {
   "cell_type": "markdown",
   "metadata": {},
   "source": [
    "먼저 시트를 열고, 복사하고, 선택하고, 지우는 방법부터 다뤄보자.  \n",
    "다음과 같은 테스트용 구글스프레트시트 `people`(파일명)을 만들어 pygsheets 실습을 진행해보겠다.\n",
    "![](image/27_pygsheets/004.png)"
   ]
  },
  {
   "cell_type": "markdown",
   "metadata": {},
   "source": [
    "### 3.1 Open file/sheet\n",
    "- 구글 드라이브 내의 스프레드시트 파일명으로 오픈\n",
    "- 파일 접근\n",
    "    - `open` 함수 이용\n",
    "    - 파라미터: 구글 드라이브 내의 스프레드시트 파일명\n",
    "- 시트 접근\n",
    "    - 시트 오브젝트에 대해 `.sheet1` 으로 첫번째 시트를 가져올수 있음\n",
    "    - 처음에 항상 sheet1을 가져오고 다른 시트는 selecting 기능으로 선택함"
   ]
  },
  {
   "cell_type": "code",
   "execution_count": 8,
   "metadata": {},
   "outputs": [],
   "source": [
    "file_nm = \"people\""
   ]
  },
  {
   "cell_type": "code",
   "execution_count": 9,
   "metadata": {},
   "outputs": [],
   "source": [
    "sh = gc.open(file_nm) # 파일 열기 (sh : 파일에 대한 객체)\n",
    "sheet1 = sh.sheet1    # 시트 접근 (sheet1 : 첫번째 시트에 대한 객체)"
   ]
  },
  {
   "cell_type": "code",
   "execution_count": 10,
   "metadata": {},
   "outputs": [
    {
     "data": {
      "text/plain": [
       "<Worksheet '시트1' index:0>"
      ]
     },
     "execution_count": 10,
     "metadata": {},
     "output_type": "execute_result"
    }
   ],
   "source": [
    "sheet1"
   ]
  },
  {
   "cell_type": "markdown",
   "metadata": {},
   "source": [
    "### 3.2 Create Sheet (시트 생성)\n",
    "현재 시트가 하나 뿐인 people 파일에 새로운 시트 \"new_sheet\"를 추가할 수 있다.\n",
    "- `add_worksheet` 함수 이용\n",
    "- 파라미터: 생성할 시트이름, 행과 열의 크기"
   ]
  },
  {
   "cell_type": "code",
   "execution_count": 24,
   "metadata": {},
   "outputs": [
    {
     "data": {
      "text/plain": [
       "<Worksheet 'new_sheet' index:1>"
      ]
     },
     "execution_count": 24,
     "metadata": {},
     "output_type": "execute_result"
    }
   ],
   "source": [
    "sheet2 = sh.add_worksheet(\"new_sheet\", rows=20, cols=5)\n",
    "sheet2"
   ]
  },
  {
   "cell_type": "markdown",
   "metadata": {},
   "source": [
    "`new_sheet` 시트가 생겼다!  </br>\n",
    "![](image/27_pygsheets/005.png)"
   ]
  },
  {
   "cell_type": "markdown",
   "metadata": {},
   "source": [
    "### 3.3 Copy Sheet (시트 복사)\n",
    "기존의 시트를 복사해 새로운 시트를 만들 수 있다.\n",
    "- `add_worksheet` 함수 이용\n",
    "- 파라미터: `src_worksheet`=복사할 시트 객체"
   ]
  },
  {
   "cell_type": "code",
   "execution_count": 34,
   "metadata": {},
   "outputs": [
    {
     "data": {
      "text/plain": [
       "<Worksheet 'copied' index:2>"
      ]
     },
     "execution_count": 34,
     "metadata": {},
     "output_type": "execute_result"
    }
   ],
   "source": [
    "sheet3 = sh.add_worksheet(\"copied\", src_worksheet=sheet1)\n",
    "sheet3"
   ]
  },
  {
   "cell_type": "markdown",
   "metadata": {},
   "source": [
    "`copied` 시트가 생겼다!  </br>\n",
    "![](image/27_pygsheets/006.png)"
   ]
  },
  {
   "cell_type": "markdown",
   "metadata": {},
   "source": [
    "### 3.4 Select Sheet (시트 선택)\n",
    "하나의 파일에 여러 개의 시트가 존재할 때 시트의 리스트를 확인하고, 원하는 시트를 선택하는 방법을 알아보자.\n",
    "- 전체 시트의 객체에서 원하는 시트 객체를 선택\n",
    "- 제목과 순서에 대한 값으로 시트를 선택 가능"
   ]
  },
  {
   "cell_type": "code",
   "execution_count": 35,
   "metadata": {},
   "outputs": [
    {
     "data": {
      "text/plain": [
       "[<Worksheet '시트1' index:0>,\n",
       " <Worksheet 'new_sheet' index:1>,\n",
       " <Worksheet 'copied' index:2>]"
      ]
     },
     "execution_count": 35,
     "metadata": {},
     "output_type": "execute_result"
    }
   ],
   "source": [
    "# 모든 시트 리스트로 가져오기\n",
    "sheet_list = sh.worksheets()\n",
    "sheet_list"
   ]
  },
  {
   "cell_type": "code",
   "execution_count": 36,
   "metadata": {},
   "outputs": [
    {
     "name": "stdout",
     "output_type": "stream",
     "text": [
      "<Worksheet 'new_sheet' index:1>\n"
     ]
    }
   ],
   "source": [
    "# 시트 제목으로 가져오기\n",
    "new_sheet = sh.worksheet_by_title(\"new_sheet\")\n",
    "print(new_sheet)"
   ]
  },
  {
   "cell_type": "code",
   "execution_count": 37,
   "metadata": {},
   "outputs": [
    {
     "data": {
      "text/plain": [
       "True"
      ]
     },
     "execution_count": 37,
     "metadata": {},
     "output_type": "execute_result"
    }
   ],
   "source": [
    "sheet2 == new_sheet"
   ]
  },
  {
   "cell_type": "code",
   "execution_count": 38,
   "metadata": {},
   "outputs": [
    {
     "name": "stdout",
     "output_type": "stream",
     "text": [
      "<Worksheet '시트1' index:0>\n"
     ]
    }
   ],
   "source": [
    "# index로 시트 가져오기\n",
    "sheet0 = sh.worksheet(\"index\", 0)\n",
    "print(sheet0)"
   ]
  },
  {
   "cell_type": "code",
   "execution_count": 39,
   "metadata": {},
   "outputs": [
    {
     "data": {
      "text/plain": [
       "True"
      ]
     },
     "execution_count": 39,
     "metadata": {},
     "output_type": "execute_result"
    }
   ],
   "source": [
    "sheet0 == sheet1"
   ]
  },
  {
   "cell_type": "code",
   "execution_count": 40,
   "metadata": {},
   "outputs": [
    {
     "name": "stdout",
     "output_type": "stream",
     "text": [
      "<Worksheet '시트1' index:0>\n"
     ]
    }
   ],
   "source": [
    "# offset으로 가져오기\n",
    "sheet0 = sh[0]\n",
    "print(sheet0)"
   ]
  },
  {
   "cell_type": "code",
   "execution_count": 41,
   "metadata": {},
   "outputs": [
    {
     "data": {
      "text/plain": [
       "True"
      ]
     },
     "execution_count": 41,
     "metadata": {},
     "output_type": "execute_result"
    }
   ],
   "source": [
    "sheet0 == sheet1"
   ]
  },
  {
   "cell_type": "markdown",
   "metadata": {},
   "source": [
    "### 3.5 시트 제목"
   ]
  },
  {
   "cell_type": "code",
   "execution_count": 42,
   "metadata": {},
   "outputs": [],
   "source": [
    "sh[1].title = \"NewSheet\""
   ]
  },
  {
   "cell_type": "code",
   "execution_count": 43,
   "metadata": {},
   "outputs": [
    {
     "data": {
      "text/plain": [
       "'NewSheet'"
      ]
     },
     "execution_count": 43,
     "metadata": {},
     "output_type": "execute_result"
    }
   ],
   "source": [
    "sh[1].title"
   ]
  },
  {
   "cell_type": "markdown",
   "metadata": {},
   "source": [
    "### 3.6 시트 삭제"
   ]
  },
  {
   "cell_type": "code",
   "execution_count": 44,
   "metadata": {},
   "outputs": [],
   "source": [
    "# 시트 내용 모두 삭제하기\n",
    "sh[2].clear()"
   ]
  },
  {
   "cell_type": "code",
   "execution_count": 46,
   "metadata": {},
   "outputs": [],
   "source": [
    "# 시트 삭제하기\n",
    "sh.del_worksheet(sh[2])\n",
    "# sh.del_worksheet(sheet3)"
   ]
  },
  {
   "cell_type": "markdown",
   "metadata": {},
   "source": [
    "## **4. Handling Data**\n",
    "이제는 좀 더 구체적으로, 시트에 들어있는 데이터를 실제로 다루는 방법을 알아보자.  \n",
    "파이썬으로 구글스프레드시트의 데이터를 읽어오고, 수정하고, 셀 서식도 지정할 수 있다."
   ]
  },
  {
   "cell_type": "markdown",
   "metadata": {},
   "source": [
    "### 4.1 데이터 가져오기"
   ]
  },
  {
   "cell_type": "markdown",
   "metadata": {},
   "source": [
    "#### 1) 전체 데이터 가져오기\n",
    "- `get_all_records()`\n",
    "- `get_all_values()`"
   ]
  },
  {
   "cell_type": "code",
   "execution_count": 48,
   "metadata": {},
   "outputs": [
    {
     "data": {
      "text/plain": [
       "[{'name': 'Paul', 'email': 'paul@naver.com', 'phone': '010-1111-1111'},\n",
       " {'name': 'Jennie', 'email': 'jennie@daum.net', 'phone': '010-1234-5678'},\n",
       " {'name': 'Chloe', 'email': 'chloe@gmail.com', 'phone': '010-9999-9999'}]"
      ]
     },
     "execution_count": 48,
     "metadata": {},
     "output_type": "execute_result"
    }
   ],
   "source": [
    "# 모든 records(row) 불러오기 - 딕셔너리 타입: 첫 행이 key가 됨\n",
    "sheet1.get_all_records()"
   ]
  },
  {
   "cell_type": "code",
   "execution_count": 52,
   "metadata": {},
   "outputs": [],
   "source": [
    "# sheet의 rows와 columns 수 설정\n",
    "sh[0].rows = 10\n",
    "sh[0].cols = 3"
   ]
  },
  {
   "cell_type": "code",
   "execution_count": 54,
   "metadata": {},
   "outputs": [
    {
     "data": {
      "text/plain": [
       "[['name', 'email', 'phone'],\n",
       " ['Paul', 'paul@naver.com', '010-1111-1111'],\n",
       " ['Jennie', 'jennie@daum.net', '010-1234-5678'],\n",
       " ['Chloe', 'chloe@gmail.com', '010-9999-9999'],\n",
       " ['', '', ''],\n",
       " ['', '', ''],\n",
       " ['', '', ''],\n",
       " ['', '', ''],\n",
       " ['', '', ''],\n",
       " ['', '', '']]"
      ]
     },
     "execution_count": 54,
     "metadata": {},
     "output_type": "execute_result"
    }
   ],
   "source": [
    "# 모든 데이터 행렬로 가져오기 (리스트 타입) - 설정된 rows, cols 수 전체에 대해 가져옴\n",
    "all_data_sheet1 = sheet1.get_all_values(returnas='matrix')\n",
    "all_data_sheet1"
   ]
  },
  {
   "cell_type": "markdown",
   "metadata": {},
   "source": [
    "#### 2) 특정 범위/위치의 데이터 가져오기\n",
    "- `get_values()`"
   ]
  },
  {
   "cell_type": "code",
   "execution_count": 55,
   "metadata": {},
   "outputs": [
    {
     "data": {
      "text/plain": [
       "[['name', 'email', 'phone'],\n",
       " ['Paul', 'paul@naver.com', '010-1111-1111'],\n",
       " ['Jennie', 'jennie@daum.net', '010-1234-5678'],\n",
       " ['Chloe', 'chloe@gmail.com', '010-9999-9999']]"
      ]
     },
     "execution_count": 55,
     "metadata": {},
     "output_type": "execute_result"
    }
   ],
   "source": [
    "# 위치를 지정하여 행렬 형태로 데이터 가져오기\n",
    "some_data_sheet1 = sheet1.get_values(start=(1,1), end=(4,3), returnas='matrix')\n",
    "some_data_sheet1"
   ]
  },
  {
   "cell_type": "code",
   "execution_count": 56,
   "metadata": {},
   "outputs": [
    {
     "data": {
      "text/plain": [
       "[[<Cell A1 'name'>, <Cell B1 'email'>, <Cell C1 'phone'>],\n",
       " [<Cell A2 'Paul'>, <Cell B2 'paul@naver.com'>, <Cell C2 '010-1111-1111'>],\n",
       " [<Cell A3 'Jennie'>, <Cell B3 'jennie@daum.net'>, <Cell C3 '010-1234-5678'>],\n",
       " [<Cell A4 'Chloe'>, <Cell B4 'chloe@gmail.com'>, <Cell C4 '010-9999-9999'>]]"
      ]
     },
     "execution_count": 56,
     "metadata": {},
     "output_type": "execute_result"
    }
   ],
   "source": [
    "# A1에서 C4의 셀 리스트 가져옴\n",
    "cell_list = sheet1.get_values('A1','C4', returnas='cells')\n",
    "cell_list"
   ]
  },
  {
   "cell_type": "markdown",
   "metadata": {},
   "source": [
    "- `range(crange, returnas='cells')`: returns a list of cell objects from specified range"
   ]
  },
  {
   "cell_type": "code",
   "execution_count": 57,
   "metadata": {},
   "outputs": [
    {
     "data": {
      "text/plain": [
       "[[<Cell A1 'name'>, <Cell B1 'email'>, <Cell C1 'phone'>],\n",
       " [<Cell A2 'Paul'>, <Cell B2 'paul@naver.com'>, <Cell C2 '010-1111-1111'>],\n",
       " [<Cell A3 'Jennie'>, <Cell B3 'jennie@daum.net'>, <Cell C3 '010-1234-5678'>],\n",
       " [<Cell A4 'Chloe'>, <Cell B4 'chloe@gmail.com'>, <Cell C4 '010-9999-9999'>]]"
      ]
     },
     "execution_count": 57,
     "metadata": {},
     "output_type": "execute_result"
    }
   ],
   "source": [
    "# A1에서 C4의 셀 리스트 가져옴\n",
    "cell_list = sheet1.range('A1:C4')\n",
    "cell_list"
   ]
  },
  {
   "cell_type": "code",
   "execution_count": 58,
   "metadata": {},
   "outputs": [
    {
     "data": {
      "text/plain": [
       "'jennie@daum.net'"
      ]
     },
     "execution_count": 58,
     "metadata": {},
     "output_type": "execute_result"
    }
   ],
   "source": [
    "cell_list[2][1].value"
   ]
  },
  {
   "cell_type": "markdown",
   "metadata": {},
   "source": [
    "- `get_row(row, returnas='matrix', include_tailing_empty=True, **kwargs)`"
   ]
  },
  {
   "cell_type": "code",
   "execution_count": 62,
   "metadata": {},
   "outputs": [
    {
     "data": {
      "text/plain": [
       "[<Cell A2 'Paul'>, <Cell B2 'paul@naver.com'>, <Cell C2 '010-1111-1111'>]"
      ]
     },
     "execution_count": 62,
     "metadata": {},
     "output_type": "execute_result"
    }
   ],
   "source": [
    "# 두번째 row의 셀 리스트 가져옴\n",
    "cell_list = sheet1.get_row(2, returnas='cells')\n",
    "cell_list"
   ]
  },
  {
   "cell_type": "markdown",
   "metadata": {},
   "source": [
    "#### 3) 특정 셀 데이터 가져오기"
   ]
  },
  {
   "cell_type": "code",
   "execution_count": 63,
   "metadata": {},
   "outputs": [
    {
     "data": {
      "text/plain": [
       "'paul@naver.com'"
      ]
     },
     "execution_count": 63,
     "metadata": {},
     "output_type": "execute_result"
    }
   ],
   "source": [
    "# \"시트[행][열]\"로 특정 셀의 데이터를 가져올 수 있음 (행은 1부터, 열은 0부터??)\n",
    "value = sheet1[2][1]\n",
    "value"
   ]
  },
  {
   "cell_type": "code",
   "execution_count": 64,
   "metadata": {},
   "outputs": [
    {
     "data": {
      "text/plain": [
       "'name'"
      ]
     },
     "execution_count": 64,
     "metadata": {},
     "output_type": "execute_result"
    }
   ],
   "source": [
    "value11 = sheet1[1][0]\n",
    "value11"
   ]
  },
  {
   "cell_type": "code",
   "execution_count": 65,
   "metadata": {},
   "outputs": [
    {
     "name": "stdout",
     "output_type": "stream",
     "text": [
      "paul@naver.com\n"
     ]
    }
   ],
   "source": [
    "# 특정 셀의 객체 가져오기\n",
    "b2 = sheet1.cell('B2')\n",
    "\n",
    "# 셀 값 확인\n",
    "print(b2.value)"
   ]
  },
  {
   "cell_type": "code",
   "execution_count": 66,
   "metadata": {},
   "outputs": [
    {
     "data": {
      "text/plain": [
       "2"
      ]
     },
     "execution_count": 66,
     "metadata": {},
     "output_type": "execute_result"
    }
   ],
   "source": [
    "b2.col"
   ]
  },
  {
   "cell_type": "code",
   "execution_count": 67,
   "metadata": {},
   "outputs": [
    {
     "name": "stdout",
     "output_type": "stream",
     "text": [
      "010-1111-1111\n"
     ]
    }
   ],
   "source": [
    "# 3을 b2 객체의 컬럼으로 할당\n",
    "b2.col = 3\n",
    "\n",
    "# 셀 값 확인\n",
    "print(b2.value)"
   ]
  },
  {
   "cell_type": "code",
   "execution_count": 69,
   "metadata": {},
   "outputs": [
    {
     "data": {
      "text/plain": [
       "'010-2222-2222'"
      ]
     },
     "execution_count": 69,
     "metadata": {},
     "output_type": "execute_result"
    }
   ],
   "source": [
    "# b2에 해당하는 위치의 데이터를 \"010-2222-2222\"로 바꿈\n",
    "b2.value = \"010-2222-2222\"\n",
    "b2.value"
   ]
  },
  {
   "cell_type": "markdown",
   "metadata": {},
   "source": [
    "![](image/27_pygsheets/007.png)"
   ]
  },
  {
   "cell_type": "markdown",
   "metadata": {},
   "source": [
    "### 4.2 문자열을 포함한 cell 찾기"
   ]
  },
  {
   "cell_type": "code",
   "execution_count": 70,
   "metadata": {},
   "outputs": [
    {
     "name": "stdout",
     "output_type": "stream",
     "text": [
      "[<Cell B4 'chloe@gmail.com'>]\n"
     ]
    }
   ],
   "source": [
    "# 문자열 찾기\n",
    "cell_list = sh[0].find(\"@gmail.com\")\n",
    "print(cell_list)"
   ]
  },
  {
   "cell_type": "code",
   "execution_count": 71,
   "metadata": {},
   "outputs": [
    {
     "name": "stdout",
     "output_type": "stream",
     "text": [
      "[<Cell A3 'Jennie'>, <Cell B3 'jennie@daum.net'>]\n"
     ]
    }
   ],
   "source": [
    "cell_list = sh[0].find(\"jennie\")\n",
    "print(cell_list)"
   ]
  },
  {
   "cell_type": "markdown",
   "metadata": {},
   "source": [
    "### 4.3 Update & Insert"
   ]
  },
  {
   "cell_type": "markdown",
   "metadata": {},
   "source": [
    "#### 1) 특정 범위에 데이터 업데이트\n",
    "- `update_values(crange=None, values=None, cell_list=None, extend=False, majordim='ROWS', parse=None)`"
   ]
  },
  {
   "cell_type": "markdown",
   "metadata": {},
   "source": [
    "'NewSheet' 시트의 A1:C4에 some_data_sheet1 데이터를 업데이트하기"
   ]
  },
  {
   "cell_type": "code",
   "execution_count": 72,
   "metadata": {},
   "outputs": [
    {
     "data": {
      "text/plain": [
       "<Worksheet 'NewSheet' index:1>"
      ]
     },
     "execution_count": 72,
     "metadata": {},
     "output_type": "execute_result"
    }
   ],
   "source": [
    "sh[1]"
   ]
  },
  {
   "cell_type": "code",
   "execution_count": 73,
   "metadata": {},
   "outputs": [
    {
     "data": {
      "text/plain": [
       "[['name', 'email', 'phone'],\n",
       " ['Paul', 'paul@naver.com', '010-1111-1111'],\n",
       " ['Jennie', 'jennie@daum.net', '010-1234-5678'],\n",
       " ['Chloe', 'chloe@gmail.com', '010-9999-9999']]"
      ]
     },
     "execution_count": 73,
     "metadata": {},
     "output_type": "execute_result"
    }
   ],
   "source": [
    "some_data_sheet1"
   ]
  },
  {
   "cell_type": "code",
   "execution_count": 81,
   "metadata": {},
   "outputs": [],
   "source": [
    "sh[1].update_values(crange='A1:C4', values=some_data_sheet1)"
   ]
  },
  {
   "cell_type": "code",
   "execution_count": 82,
   "metadata": {},
   "outputs": [],
   "source": [
    "# 시트의 열과 행을 재설정해줌\n",
    "sh[1].rows = 6\n",
    "sh[1].cols = 3"
   ]
  },
  {
   "cell_type": "markdown",
   "metadata": {},
   "source": [
    "![](image/27_pygsheets/009.png)"
   ]
  },
  {
   "cell_type": "code",
   "execution_count": 83,
   "metadata": {},
   "outputs": [
    {
     "data": {
      "text/plain": [
       "[['name', 'email', 'phone'],\n",
       " ['Paul', 'paul@naver.com', '010-1111-1111'],\n",
       " ['Jennie', 'jennie@daum.net', '010-1234-5678'],\n",
       " ['Chloe', 'chloe@gmail.com', '010-9999-9999'],\n",
       " ['', '', ''],\n",
       " ['', '', '']]"
      ]
     },
     "execution_count": 83,
     "metadata": {},
     "output_type": "execute_result"
    }
   ],
   "source": [
    "# sh[1] 시트의 모든 데이터 가져오기\n",
    "all_data_sheet2 = sh[1].get_all_values()\n",
    "all_data_sheet2"
   ]
  },
  {
   "cell_type": "markdown",
   "metadata": {},
   "source": [
    "#### 2) 특정 셀 데이터 업데이트\n",
    "- syntax: `update_value(addr, val, parse=None)`"
   ]
  },
  {
   "cell_type": "code",
   "execution_count": 84,
   "metadata": {},
   "outputs": [],
   "source": [
    "sh[1].update_value('C2', '010-3333-3333')"
   ]
  },
  {
   "cell_type": "markdown",
   "metadata": {},
   "source": [
    "#### 2) insert & append"
   ]
  },
  {
   "cell_type": "code",
   "execution_count": 85,
   "metadata": {},
   "outputs": [],
   "source": [
    "# 4번째줄 아래로 row insert (행을 삽입하면서 데이터를 넣어줄 수 있음)\n",
    "sh[1].insert_rows(row=4, number=1, values=all_data_sheet2)"
   ]
  },
  {
   "cell_type": "code",
   "execution_count": 86,
   "metadata": {},
   "outputs": [
    {
     "name": "stdout",
     "output_type": "stream",
     "text": [
      "['name', 'email', 'phone']\n",
      "['Paul', 'paul@naver.com', '010-3333-3333']\n",
      "['Jennie', 'jennie@daum.net', '010-1234-5678']\n",
      "['Chloe', 'chloe@gmail.com', '010-9999-9999']\n",
      "['name', 'email', 'phone']\n",
      "['Paul', 'paul@naver.com', '010-1111-1111']\n",
      "['Jennie', 'jennie@daum.net', '010-1234-5678']\n",
      "['Chloe', 'chloe@gmail.com', '010-9999-9999']\n"
     ]
    }
   ],
   "source": [
    "# 반복문을 통해 한줄씩 읽어 올수 있음\n",
    "for row in sh[1]:\n",
    "    print(row)"
   ]
  },
  {
   "cell_type": "code",
   "execution_count": 87,
   "metadata": {},
   "outputs": [],
   "source": [
    "# 시트의 마지막 데이터를 찾아 마지막 데이터의 아래에 데이터를 추가\n",
    "sh[1].append_table(values=[\"Ryan\",\"ryan@gmail.com\"])"
   ]
  },
  {
   "cell_type": "code",
   "execution_count": 88,
   "metadata": {},
   "outputs": [
    {
     "data": {
      "text/plain": [
       "11"
      ]
     },
     "execution_count": 88,
     "metadata": {},
     "output_type": "execute_result"
    }
   ],
   "source": [
    "sh[1].rows"
   ]
  },
  {
   "cell_type": "markdown",
   "metadata": {},
   "source": [
    "![](image/27_pygsheets/010.png)"
   ]
  },
  {
   "cell_type": "markdown",
   "metadata": {},
   "source": [
    "### 4.4 셀 서식 지정\n",
    "셀에 메모를 추가하거나 셀 배경 색상, 폰트 크기 등의 텍스트 포맷 설정 등 셀 서식 지정도 가능하다."
   ]
  },
  {
   "cell_type": "code",
   "execution_count": 96,
   "metadata": {},
   "outputs": [
    {
     "data": {
      "text/plain": [
       "<Cell C2 '010-2222-2222'>"
      ]
     },
     "execution_count": 96,
     "metadata": {},
     "output_type": "execute_result"
    }
   ],
   "source": [
    "cell = sheet1.cell('C2')\n",
    "\n",
    "# 노트 추가\n",
    "cell.note = \"this is phone number.\"\n",
    "\n",
    "# 셀 배경 색상 변경 (Red, Green, Blue, Alpha)\n",
    "cell.color = (1.0, 1.0, 0.0, 1.0) \n",
    "\n",
    "# 텍스트 포멧 변경\n",
    "cell.set_text_format('fontSize', 12)\n",
    "cell.set_text_format('bold', True)"
   ]
  },
  {
   "cell_type": "markdown",
   "metadata": {},
   "source": [
    "![](image/27_pygsheets/011.png)"
   ]
  },
  {
   "cell_type": "markdown",
   "metadata": {},
   "source": [
    "## **5. Pandas DataFrame과의 호환**\n",
    "\n",
    "사실 구글스프레드시트에서 데이터를 불러와 실제로 분석 작업 등을 편하게 하기 위해서는 Pandas와의 호환이 가장 중요하다고 할 수 있다. 구글스프레드시트에서 DataFrame으로 가져올 수만 있다면 평소에 pandas로 하던 데이터 관련작업을 그대로 사용하면 되니까.  \n",
    "그렇다면 구글스프레드시트를 DataFrame으로 가져오는 방법, 반대로 내가 가진 DataFrame을 구글스프레드시트로 보내는 방법을 알아볼까."
   ]
  },
  {
   "cell_type": "markdown",
   "metadata": {},
   "source": [
    "### 5.1 Sheet → DataFrame\n",
    "- `get_as_df()` 함수 이용"
   ]
  },
  {
   "cell_type": "code",
   "execution_count": 97,
   "metadata": {},
   "outputs": [
    {
     "data": {
      "text/plain": [
       "<Worksheet '시트1' index:0>"
      ]
     },
     "execution_count": 97,
     "metadata": {},
     "output_type": "execute_result"
    }
   ],
   "source": [
    "sheet1"
   ]
  },
  {
   "cell_type": "code",
   "execution_count": 98,
   "metadata": {},
   "outputs": [
    {
     "data": {
      "text/html": [
       "<div>\n",
       "<style scoped>\n",
       "    .dataframe tbody tr th:only-of-type {\n",
       "        vertical-align: middle;\n",
       "    }\n",
       "\n",
       "    .dataframe tbody tr th {\n",
       "        vertical-align: top;\n",
       "    }\n",
       "\n",
       "    .dataframe thead th {\n",
       "        text-align: right;\n",
       "    }\n",
       "</style>\n",
       "<table border=\"1\" class=\"dataframe\">\n",
       "  <thead>\n",
       "    <tr style=\"text-align: right;\">\n",
       "      <th></th>\n",
       "      <th>name</th>\n",
       "      <th>email</th>\n",
       "      <th>phone</th>\n",
       "    </tr>\n",
       "  </thead>\n",
       "  <tbody>\n",
       "    <tr>\n",
       "      <td>0</td>\n",
       "      <td>Paul</td>\n",
       "      <td>paul@naver.com</td>\n",
       "      <td>010-2222-2222</td>\n",
       "    </tr>\n",
       "    <tr>\n",
       "      <td>1</td>\n",
       "      <td>Jennie</td>\n",
       "      <td>jennie@daum.net</td>\n",
       "      <td>010-1234-5678</td>\n",
       "    </tr>\n",
       "    <tr>\n",
       "      <td>2</td>\n",
       "      <td>Chloe</td>\n",
       "      <td>chloe@gmail.com</td>\n",
       "      <td>010-9999-9999</td>\n",
       "    </tr>\n",
       "  </tbody>\n",
       "</table>\n",
       "</div>"
      ],
      "text/plain": [
       "     name            email          phone\n",
       "0    Paul   paul@naver.com  010-2222-2222\n",
       "1  Jennie  jennie@daum.net  010-1234-5678\n",
       "2   Chloe  chloe@gmail.com  010-9999-9999"
      ]
     },
     "execution_count": 98,
     "metadata": {},
     "output_type": "execute_result"
    }
   ],
   "source": [
    "df = sheet1.get_as_df()\n",
    "df"
   ]
  },
  {
   "cell_type": "code",
   "execution_count": 99,
   "metadata": {},
   "outputs": [],
   "source": [
    "# csv 파일로 내보내기\n",
    "df.to_csv(\"email.csv\", index=False)"
   ]
  },
  {
   "cell_type": "markdown",
   "metadata": {},
   "source": [
    "### 5.2 DataFrame → sheet\n",
    "- `set_dataframe(DataFrame, cell_start)` 함수 이용"
   ]
  },
  {
   "cell_type": "markdown",
   "metadata": {},
   "source": [
    "#### 1) csv 파일을 불러와서 구글스프레드시트로 보내기"
   ]
  },
  {
   "cell_type": "code",
   "execution_count": 100,
   "metadata": {},
   "outputs": [
    {
     "data": {
      "text/html": [
       "<div>\n",
       "<style scoped>\n",
       "    .dataframe tbody tr th:only-of-type {\n",
       "        vertical-align: middle;\n",
       "    }\n",
       "\n",
       "    .dataframe tbody tr th {\n",
       "        vertical-align: top;\n",
       "    }\n",
       "\n",
       "    .dataframe thead th {\n",
       "        text-align: right;\n",
       "    }\n",
       "</style>\n",
       "<table border=\"1\" class=\"dataframe\">\n",
       "  <thead>\n",
       "    <tr style=\"text-align: right;\">\n",
       "      <th></th>\n",
       "      <th>name</th>\n",
       "      <th>email</th>\n",
       "      <th>phone</th>\n",
       "    </tr>\n",
       "  </thead>\n",
       "  <tbody>\n",
       "    <tr>\n",
       "      <td>0</td>\n",
       "      <td>Paul</td>\n",
       "      <td>paul@naver.com</td>\n",
       "      <td>010-2222-2222</td>\n",
       "    </tr>\n",
       "    <tr>\n",
       "      <td>1</td>\n",
       "      <td>Jennie</td>\n",
       "      <td>jennie@daum.net</td>\n",
       "      <td>010-1234-5678</td>\n",
       "    </tr>\n",
       "    <tr>\n",
       "      <td>2</td>\n",
       "      <td>Chloe</td>\n",
       "      <td>chloe@gmail.com</td>\n",
       "      <td>010-9999-9999</td>\n",
       "    </tr>\n",
       "  </tbody>\n",
       "</table>\n",
       "</div>"
      ],
      "text/plain": [
       "     name            email          phone\n",
       "0    Paul   paul@naver.com  010-2222-2222\n",
       "1  Jennie  jennie@daum.net  010-1234-5678\n",
       "2   Chloe  chloe@gmail.com  010-9999-9999"
      ]
     },
     "execution_count": 100,
     "metadata": {},
     "output_type": "execute_result"
    }
   ],
   "source": [
    "# csv 파일 읽어오기\n",
    "df = pd.read_csv(\"email.csv\")\n",
    "df"
   ]
  },
  {
   "cell_type": "code",
   "execution_count": 101,
   "metadata": {},
   "outputs": [],
   "source": [
    "# 새로운 시트 만들기\n",
    "email_sheet = sh.add_worksheet(\"email\")"
   ]
  },
  {
   "cell_type": "code",
   "execution_count": 102,
   "metadata": {},
   "outputs": [],
   "source": [
    "email_sheet.set_dataframe(df, 'A1', copy_index=False) "
   ]
  },
  {
   "cell_type": "markdown",
   "metadata": {},
   "source": [
    "![](image/27_pygsheets/012.png)"
   ]
  },
  {
   "cell_type": "markdown",
   "metadata": {},
   "source": [
    "#### 2) seaborn에서 iris 데이터를 가져와서 구글 스프레드시트에 넣기"
   ]
  },
  {
   "cell_type": "code",
   "execution_count": 103,
   "metadata": {},
   "outputs": [
    {
     "data": {
      "text/html": [
       "<div>\n",
       "<style scoped>\n",
       "    .dataframe tbody tr th:only-of-type {\n",
       "        vertical-align: middle;\n",
       "    }\n",
       "\n",
       "    .dataframe tbody tr th {\n",
       "        vertical-align: top;\n",
       "    }\n",
       "\n",
       "    .dataframe thead th {\n",
       "        text-align: right;\n",
       "    }\n",
       "</style>\n",
       "<table border=\"1\" class=\"dataframe\">\n",
       "  <thead>\n",
       "    <tr style=\"text-align: right;\">\n",
       "      <th></th>\n",
       "      <th>sepal_length</th>\n",
       "      <th>sepal_width</th>\n",
       "      <th>petal_length</th>\n",
       "      <th>petal_width</th>\n",
       "      <th>species</th>\n",
       "    </tr>\n",
       "  </thead>\n",
       "  <tbody>\n",
       "    <tr>\n",
       "      <td>145</td>\n",
       "      <td>6.7</td>\n",
       "      <td>3.0</td>\n",
       "      <td>5.2</td>\n",
       "      <td>2.3</td>\n",
       "      <td>virginica</td>\n",
       "    </tr>\n",
       "    <tr>\n",
       "      <td>146</td>\n",
       "      <td>6.3</td>\n",
       "      <td>2.5</td>\n",
       "      <td>5.0</td>\n",
       "      <td>1.9</td>\n",
       "      <td>virginica</td>\n",
       "    </tr>\n",
       "    <tr>\n",
       "      <td>147</td>\n",
       "      <td>6.5</td>\n",
       "      <td>3.0</td>\n",
       "      <td>5.2</td>\n",
       "      <td>2.0</td>\n",
       "      <td>virginica</td>\n",
       "    </tr>\n",
       "    <tr>\n",
       "      <td>148</td>\n",
       "      <td>6.2</td>\n",
       "      <td>3.4</td>\n",
       "      <td>5.4</td>\n",
       "      <td>2.3</td>\n",
       "      <td>virginica</td>\n",
       "    </tr>\n",
       "    <tr>\n",
       "      <td>149</td>\n",
       "      <td>5.9</td>\n",
       "      <td>3.0</td>\n",
       "      <td>5.1</td>\n",
       "      <td>1.8</td>\n",
       "      <td>virginica</td>\n",
       "    </tr>\n",
       "  </tbody>\n",
       "</table>\n",
       "</div>"
      ],
      "text/plain": [
       "     sepal_length  sepal_width  petal_length  petal_width    species\n",
       "145           6.7          3.0           5.2          2.3  virginica\n",
       "146           6.3          2.5           5.0          1.9  virginica\n",
       "147           6.5          3.0           5.2          2.0  virginica\n",
       "148           6.2          3.4           5.4          2.3  virginica\n",
       "149           5.9          3.0           5.1          1.8  virginica"
      ]
     },
     "execution_count": 103,
     "metadata": {},
     "output_type": "execute_result"
    }
   ],
   "source": [
    "import seaborn as sns\n",
    "\n",
    "iris = sns.load_dataset(\"iris\")\n",
    "iris.tail()"
   ]
  },
  {
   "cell_type": "code",
   "execution_count": 104,
   "metadata": {},
   "outputs": [],
   "source": [
    "iris_sheet = sh.add_worksheet(\"iris\")  # 새로운 시트 만들기"
   ]
  },
  {
   "cell_type": "code",
   "execution_count": 105,
   "metadata": {},
   "outputs": [],
   "source": [
    "iris_sheet.set_dataframe(iris, 'A1', copy_index=True) # (df, cell_start)"
   ]
  },
  {
   "cell_type": "markdown",
   "metadata": {},
   "source": [
    "![](image/27_pygsheets/013.png)"
   ]
  },
  {
   "cell_type": "markdown",
   "metadata": {},
   "source": [
    "## **6. Share**\n",
    "구글스프레드시트의 공유 권한을 추가하거나 삭제하는 것도 아래와 같이 가능하다."
   ]
  },
  {
   "cell_type": "markdown",
   "metadata": {},
   "source": [
    "### 6.1 공유 권한 추가"
   ]
  },
  {
   "cell_type": "code",
   "execution_count": 169,
   "metadata": {},
   "outputs": [],
   "source": [
    "# role: 'owner','writer','commenter','reader'\n",
    "sh.share(\"hyeshinoh+h@gmail.com\", role='reader')"
   ]
  },
  {
   "cell_type": "markdown",
   "metadata": {},
   "source": [
    "### 6.2 공유 권한 삭제"
   ]
  },
  {
   "cell_type": "code",
   "execution_count": 171,
   "metadata": {},
   "outputs": [],
   "source": [
    "sh.remove_permission(\"hyeshinoh+h@gmail.com\")"
   ]
  }
 ],
 "metadata": {
  "kernelspec": {
   "display_name": "Python 3",
   "language": "python",
   "name": "python3"
  },
  "language_info": {
   "codemirror_mode": {
    "name": "ipython",
    "version": 3
   },
   "file_extension": ".py",
   "mimetype": "text/x-python",
   "name": "python",
   "nbconvert_exporter": "python",
   "pygments_lexer": "ipython3",
   "version": "3.6.5"
  }
 },
 "nbformat": 4,
 "nbformat_minor": 4
}
