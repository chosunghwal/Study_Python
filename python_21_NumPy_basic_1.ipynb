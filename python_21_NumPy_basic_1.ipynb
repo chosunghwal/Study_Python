{
 "cells": [
  {
   "cell_type": "markdown",
   "metadata": {},
   "source": [
    "## NumPy\n",
    "\n",
    "### NumPy 소개\n",
    "Numpy는 Pandas와 함께 데이터사이언스에서 수치 배열 데이터를 다루는데 필수적 패키지로,  \n",
    "\n",
    "\n",
    "### 다룰 내용\n",
    "- Make\n",
    "- array\n",
    "- reshape\n",
    "- index\n",
    "- zeros\n",
    "- ones\n",
    "- eye\n",
    "- like\n",
    "- empty\n",
    "- arange\n",
    "- linspace, logspace\n",
    "- rand, randn\n",
    "- stack\n",
    "- concatenate\n",
    "- split\n",
    "- sort"
   ]
  },
  {
   "cell_type": "markdown",
   "metadata": {},
   "source": [
    "설치하기\n",
    "- `pip3 install numpy`"
   ]
  },
  {
   "cell_type": "code",
   "execution_count": 1,
   "metadata": {},
   "outputs": [],
   "source": [
    "import numpy as np"
   ]
  },
  {
   "cell_type": "markdown",
   "metadata": {},
   "source": [
    "## 1. 배열 만들기"
   ]
  },
  {
   "cell_type": "markdown",
   "metadata": {},
   "source": [
    "### 1.1 배열(ndarray)\n",
    "- `ndarray`: NumPy의 array class (alias: `array`)\n",
    "- 중요 속성\n",
    "    - `ndarray.ndim` : array의 차원 수\n",
    "    - `ndarray.shape` : array 각 차원의 사이즈"
   ]
  },
  {
   "cell_type": "markdown",
   "metadata": {},
   "source": [
    "### 1.2 array 만들기\n",
    "#### (1) 1차원 배열 (vector, 행벡터)"
   ]
  },
  {
   "cell_type": "code",
   "execution_count": 3,
   "metadata": {},
   "outputs": [
    {
     "name": "stdout",
     "output_type": "stream",
     "text": [
      "<class 'numpy.ndarray'>\n",
      "[0 1 2 3 4 5]\n"
     ]
    }
   ],
   "source": [
    "array = np.array([0,1,2,3,4,5])\n",
    "# array = np.array(range(6))      # 같은 결과가 나옴\n",
    "print(type(array))\n",
    "print(array)"
   ]
  },
  {
   "cell_type": "markdown",
   "metadata": {},
   "source": [
    "#### (2) 2차원 배열 (matrix)"
   ]
  },
  {
   "cell_type": "markdown",
   "metadata": {},
   "source": [
    "##### 열벡터 (`n*1` matrix)"
   ]
  },
  {
   "cell_type": "code",
   "execution_count": 4,
   "metadata": {},
   "outputs": [
    {
     "name": "stdout",
     "output_type": "stream",
     "text": [
      "[[0]\n",
      " [1]\n",
      " [2]]\n"
     ]
    }
   ],
   "source": [
    "array = np.array([[0],[1],[2]])\n",
    "print(array)"
   ]
  },
  {
   "cell_type": "markdown",
   "metadata": {},
   "source": [
    "##### `n*m` matrix"
   ]
  },
  {
   "cell_type": "code",
   "execution_count": 6,
   "metadata": {},
   "outputs": [
    {
     "name": "stdout",
     "output_type": "stream",
     "text": [
      "[[1 2 3]\n",
      " [4 5 6]]\n",
      "array의 차원 수: 2\n",
      "array의 shape: (2, 3)\n"
     ]
    }
   ],
   "source": [
    "array = np.array([[1, 2, 3],\n",
    "                  [4, 5, 6]])\n",
    "print(array)\n",
    "print(\"array의 ndim(차원 수):\", array.ndim)\n",
    "print(\"array의 shape:\", array.shape)"
   ]
  },
  {
   "cell_type": "markdown",
   "metadata": {},
   "source": [
    "#### (3) 3차원 배열 (`n*m*o` matrix)"
   ]
  },
  {
   "cell_type": "code",
   "execution_count": 8,
   "metadata": {
    "scrolled": true
   },
   "outputs": [
    {
     "name": "stdout",
     "output_type": "stream",
     "text": [
      "[[[  0   1   2   3]\n",
      "  [  4   5   6   7]\n",
      "  [  8   9  10  11]]\n",
      "\n",
      " [[  0   1   2   3]\n",
      "  [  4   5 100   7]\n",
      "  [  8   9  10  11]]]\n",
      "array의 ndim(차원 수): 3\n",
      "array의 shape: (2, 3, 4)\n"
     ]
    }
   ],
   "source": [
    "array = np.array([[[0,1,2,3],\n",
    "                   [4,5,6,7],\n",
    "                   [8,9,10,11]],\n",
    "                  [[0,1,2,3],\n",
    "                   [4,5,100,7],\n",
    "                   [8,9,10,11]]])\n",
    "print(array)\n",
    "print(\"array의 ndim(차원 수):\", array.ndim)\n",
    "print(\"array의 shape:\", array.shape)   # 바깥에서 안(상위에서 하위로)으로 모양을 나타낸다고 생각하면 편함"
   ]
  },
  {
   "cell_type": "markdown",
   "metadata": {},
   "source": [
    "## 2. reshape\n",
    "- 행렬의 모양을 바꿀수 있다."
   ]
  },
  {
   "cell_type": "code",
   "execution_count": 10,
   "metadata": {},
   "outputs": [
    {
     "data": {
      "text/plain": [
       "array([1, 2, 3, 4, 5, 6, 7, 8])"
      ]
     },
     "execution_count": 10,
     "metadata": {},
     "output_type": "execute_result"
    }
   ],
   "source": [
    "na = np.array([1,2,3,4,5,6,7,8])\n",
    "na"
   ]
  },
  {
   "cell_type": "code",
   "execution_count": 11,
   "metadata": {},
   "outputs": [
    {
     "data": {
      "text/plain": [
       "array([[1, 2, 3, 4],\n",
       "       [5, 6, 7, 8]])"
      ]
     },
     "execution_count": 11,
     "metadata": {},
     "output_type": "execute_result"
    }
   ],
   "source": [
    "rna = na.reshape(2,4)          # 아래보다는 이렇게 쓰는게 좀 더 편한 방법\n",
    "rna"
   ]
  },
  {
   "cell_type": "code",
   "execution_count": 12,
   "metadata": {},
   "outputs": [
    {
     "data": {
      "text/plain": [
       "array([[1, 2],\n",
       "       [3, 4],\n",
       "       [5, 6],\n",
       "       [7, 8]])"
      ]
     },
     "execution_count": 12,
     "metadata": {},
     "output_type": "execute_result"
    }
   ],
   "source": [
    "rna = np.reshape(na, (4,2))    # np의 함수 reshape을 사용\n",
    "rna"
   ]
  },
  {
   "cell_type": "code",
   "execution_count": 13,
   "metadata": {},
   "outputs": [
    {
     "data": {
      "text/plain": [
       "array([[1, 3, 5, 7],\n",
       "       [2, 4, 6, 8]])"
      ]
     },
     "execution_count": 13,
     "metadata": {},
     "output_type": "execute_result"
    }
   ],
   "source": [
    "# 전치행렬 (.T는 속성)\n",
    "rna.T"
   ]
  },
  {
   "cell_type": "markdown",
   "metadata": {},
   "source": [
    "## 3. index\n",
    "- 행렬 데이터를 수정하거나, 가져오거나, 자를 때 사용\n",
    "- 행렬의 특정 위치 데이터 값 가져오기\n",
    "- 행렬 자르기"
   ]
  },
  {
   "cell_type": "code",
   "execution_count": 10,
   "metadata": {},
   "outputs": [
    {
     "data": {
      "text/plain": [
       "array([[[  0,   1,   2,   3],\n",
       "        [  4,   5,   6,   7],\n",
       "        [  8,   9,  10,  11]],\n",
       "\n",
       "       [[  0,   1,   2,   3],\n",
       "        [  4,   5, 100,   7],\n",
       "        [  8,   9,  10,  11]]])"
      ]
     },
     "execution_count": 10,
     "metadata": {},
     "output_type": "execute_result"
    }
   ],
   "source": [
    "array"
   ]
  },
  {
   "cell_type": "code",
   "execution_count": 14,
   "metadata": {},
   "outputs": [
    {
     "name": "stdout",
     "output_type": "stream",
     "text": [
      "100\n",
      "100\n"
     ]
    }
   ],
   "source": [
    "print(array[1][1][2])  # 바깥차원부터 indexing\n",
    "print(array[1,1,2])    # 이렇게 줄여서 써도 OK"
   ]
  },
  {
   "cell_type": "code",
   "execution_count": 15,
   "metadata": {},
   "outputs": [
    {
     "name": "stdout",
     "output_type": "stream",
     "text": [
      "[[[100   7]\n",
      "  [ 10  11]]]\n",
      "3 (1, 2, 2)\n"
     ]
    }
   ],
   "source": [
    "# indexing 이용한 slicing\n",
    "result = array[1:,1:,2:]\n",
    "print(result)\n",
    "print(result.ndim, result.shape)    # 3차원이라는 점!"
   ]
  },
  {
   "cell_type": "code",
   "execution_count": 16,
   "metadata": {},
   "outputs": [
    {
     "name": "stdout",
     "output_type": "stream",
     "text": [
      "[[100   7]\n",
      " [ 10  11]]\n"
     ]
    },
    {
     "data": {
      "text/plain": [
       "2"
      ]
     },
     "execution_count": 16,
     "metadata": {},
     "output_type": "execute_result"
    }
   ],
   "source": [
    "print(result[0])\n",
    "result[0].ndim"
   ]
  },
  {
   "cell_type": "markdown",
   "metadata": {},
   "source": [
    "## 4. 데이터 수정"
   ]
  },
  {
   "cell_type": "code",
   "execution_count": 14,
   "metadata": {},
   "outputs": [
    {
     "data": {
      "text/plain": [
       "array([0, 1, 2, 3, 4])"
      ]
     },
     "execution_count": 14,
     "metadata": {},
     "output_type": "execute_result"
    }
   ],
   "source": [
    "ls = np.array(range(5))\n",
    "ls"
   ]
  },
  {
   "cell_type": "code",
   "execution_count": 15,
   "metadata": {},
   "outputs": [
    {
     "data": {
      "text/plain": [
       "array([0, 1, 0, 3, 4])"
      ]
     },
     "execution_count": 15,
     "metadata": {},
     "output_type": "execute_result"
    }
   ],
   "source": [
    "ls[2] = 0\n",
    "ls"
   ]
  },
  {
   "cell_type": "code",
   "execution_count": 16,
   "metadata": {},
   "outputs": [
    {
     "data": {
      "text/plain": [
       "array([0, 1, 0, 0, 0])"
      ]
     },
     "execution_count": 16,
     "metadata": {},
     "output_type": "execute_result"
    }
   ],
   "source": [
    "ls[3:] = 0\n",
    "ls"
   ]
  },
  {
   "cell_type": "markdown",
   "metadata": {},
   "source": [
    "## 5. 특수 행렬 만들기"
   ]
  },
  {
   "cell_type": "markdown",
   "metadata": {},
   "source": [
    "### 5.1 zeros\n",
    "- 행렬을 만들고 0을 채움\n",
    "- dtype으로 데이터 타입 설정 가능 (default는 float)"
   ]
  },
  {
   "cell_type": "code",
   "execution_count": 21,
   "metadata": {},
   "outputs": [
    {
     "data": {
      "text/plain": [
       "array([0., 0., 0., 0., 0.])"
      ]
     },
     "execution_count": 21,
     "metadata": {},
     "output_type": "execute_result"
    }
   ],
   "source": [
    "z = np.zeros(5)\n",
    "z"
   ]
  },
  {
   "cell_type": "code",
   "execution_count": 22,
   "metadata": {},
   "outputs": [
    {
     "data": {
      "text/plain": [
       "array([[0, 0, 0],\n",
       "       [0, 0, 0]])"
      ]
     },
     "execution_count": 22,
     "metadata": {},
     "output_type": "execute_result"
    }
   ],
   "source": [
    "## data type을 parameter로 넣어주기\n",
    "zz = np.zeros((2 ,3), dtype=int)  \n",
    "zz"
   ]
  },
  {
   "cell_type": "code",
   "execution_count": 23,
   "metadata": {},
   "outputs": [
    {
     "data": {
      "text/plain": [
       "2"
      ]
     },
     "execution_count": 23,
     "metadata": {},
     "output_type": "execute_result"
    }
   ],
   "source": [
    "zz.ndim"
   ]
  },
  {
   "cell_type": "code",
   "execution_count": 24,
   "metadata": {},
   "outputs": [
    {
     "data": {
      "text/plain": [
       "(5, (2, 3, 2, 3, 2))"
      ]
     },
     "execution_count": 24,
     "metadata": {},
     "output_type": "execute_result"
    }
   ],
   "source": [
    "# 고차원도 만들 수 있음 (모양을 상상할 수는 없지만)\n",
    "z5 = np.zeros((2, 3, 2, 3, 2), dtype=int)\n",
    "z5.ndim, z5.shape"
   ]
  },
  {
   "cell_type": "markdown",
   "metadata": {},
   "source": [
    "### 5.2 ones\n",
    "- 행렬을 만들고 1을 채움\n",
    "- dtype으로 데이터 타입 설정 가능 (default는 float)"
   ]
  },
  {
   "cell_type": "code",
   "execution_count": 25,
   "metadata": {},
   "outputs": [
    {
     "data": {
      "text/plain": [
       "array([[1, 1, 1],\n",
       "       [1, 1, 1]])"
      ]
     },
     "execution_count": 25,
     "metadata": {},
     "output_type": "execute_result"
    }
   ],
   "source": [
    "one = np.ones((2, 3), dtype=int)\n",
    "one"
   ]
  },
  {
   "cell_type": "markdown",
   "metadata": {},
   "source": [
    "### 5.3 eye\n",
    "- 단위 행렬 데이터를 만듦"
   ]
  },
  {
   "cell_type": "code",
   "execution_count": 28,
   "metadata": {},
   "outputs": [
    {
     "name": "stdout",
     "output_type": "stream",
     "text": [
      "[[1. 0. 0. 0. 0.]\n",
      " [0. 1. 0. 0. 0.]\n",
      " [0. 0. 1. 0. 0.]\n",
      " [0. 0. 0. 1. 0.]\n",
      " [0. 0. 0. 0. 1.]]\n",
      "[[1. 0. 0. 0. 0.]\n",
      " [0. 1. 0. 0. 0.]\n",
      " [0. 0. 1. 0. 0.]\n",
      " [0. 0. 0. 1. 0.]\n",
      " [0. 0. 0. 0. 1.]]\n"
     ]
    }
   ],
   "source": [
    "print(np.eye(5))\n",
    "print(np.identity(5))"
   ]
  },
  {
   "cell_type": "markdown",
   "metadata": {},
   "source": [
    "### 5.4 like\n",
    "- 행렬 안에 있는 모든 데이터를 0이나 1로 바꿀수 있음\n",
    "- `np.zeros_like(matrix)`: 0으로 바꾸기\n",
    "- `np.ones_lie(matrix)`: 1로 바꾸기"
   ]
  },
  {
   "cell_type": "code",
   "execution_count": 36,
   "metadata": {},
   "outputs": [
    {
     "data": {
      "text/plain": [
       "array([0., 0., 0., 0., 0.])"
      ]
     },
     "execution_count": 36,
     "metadata": {},
     "output_type": "execute_result"
    }
   ],
   "source": [
    "z = np.zeros(5)\n",
    "z"
   ]
  },
  {
   "cell_type": "code",
   "execution_count": 37,
   "metadata": {},
   "outputs": [
    {
     "data": {
      "text/plain": [
       "array([1., 1., 1., 1., 1.])"
      ]
     },
     "execution_count": 37,
     "metadata": {},
     "output_type": "execute_result"
    }
   ],
   "source": [
    "ls = np.ones_like(z)\n",
    "ls"
   ]
  },
  {
   "cell_type": "code",
   "execution_count": 38,
   "metadata": {
    "scrolled": true
   },
   "outputs": [
    {
     "data": {
      "text/plain": [
       "array([[0, 0, 0],\n",
       "       [0, 0, 0]])"
      ]
     },
     "execution_count": 38,
     "metadata": {},
     "output_type": "execute_result"
    }
   ],
   "source": [
    "np.zeros_like(one)"
   ]
  },
  {
   "cell_type": "markdown",
   "metadata": {},
   "source": [
    "### 5.5 empty\n",
    "- 빈 행렬을 만듦\n",
    "- 실제로는 빈데이터가 아니라 더미 데이터가 들어감\n",
    "- 실제로는 empty보다는 zeros나 ones를 많이 사용"
   ]
  },
  {
   "cell_type": "code",
   "execution_count": 39,
   "metadata": {},
   "outputs": [
    {
     "data": {
      "text/plain": [
       "array([[0., 0., 0.],\n",
       "       [0., 0., 0.],\n",
       "       [0., 0., 0.],\n",
       "       [0., 0., 0.],\n",
       "       [0., 0., 0.]])"
      ]
     },
     "execution_count": 39,
     "metadata": {},
     "output_type": "execute_result"
    }
   ],
   "source": [
    "np.empty((5, 3))"
   ]
  },
  {
   "cell_type": "markdown",
   "metadata": {},
   "source": [
    "## 6. array에 데이터 넣기"
   ]
  },
  {
   "cell_type": "markdown",
   "metadata": {},
   "source": [
    "### 6.1 arange\n",
    "- range와 사용 방법이 같음\n",
    "- 하지만 range보다 속도가 빠름"
   ]
  },
  {
   "cell_type": "code",
   "execution_count": 40,
   "metadata": {},
   "outputs": [
    {
     "data": {
      "text/plain": [
       "array([0, 1, 2, 3, 4, 5, 6, 7, 8, 9])"
      ]
     },
     "execution_count": 40,
     "metadata": {},
     "output_type": "execute_result"
    }
   ],
   "source": [
    "np.arange(10)"
   ]
  },
  {
   "cell_type": "code",
   "execution_count": 41,
   "metadata": {},
   "outputs": [
    {
     "data": {
      "text/plain": [
       "array([5, 6, 7, 8, 9])"
      ]
     },
     "execution_count": 41,
     "metadata": {},
     "output_type": "execute_result"
    }
   ],
   "source": [
    "np.arange(5, 10)"
   ]
  },
  {
   "cell_type": "code",
   "execution_count": 42,
   "metadata": {},
   "outputs": [
    {
     "data": {
      "text/plain": [
       "array([5, 7, 9])"
      ]
     },
     "execution_count": 42,
     "metadata": {},
     "output_type": "execute_result"
    }
   ],
   "source": [
    "np.arange(5, 10, 2)  # step 지정"
   ]
  },
  {
   "cell_type": "code",
   "execution_count": 43,
   "metadata": {},
   "outputs": [
    {
     "data": {
      "text/plain": [
       "1000000"
      ]
     },
     "execution_count": 43,
     "metadata": {},
     "output_type": "execute_result"
    }
   ],
   "source": [
    "# 속도 비교\n",
    "size = 10 ** 6\n",
    "# size = int(1E6)\n",
    "size"
   ]
  },
  {
   "cell_type": "code",
   "execution_count": 44,
   "metadata": {},
   "outputs": [
    {
     "name": "stdout",
     "output_type": "stream",
     "text": [
      "Wall time: 683 ms\n",
      "Wall time: 473 ms\n"
     ]
    }
   ],
   "source": [
    "%time for x in range(size): x**2\n",
    "%time for x in np.arange(size): x**2"
   ]
  },
  {
   "cell_type": "markdown",
   "metadata": {},
   "source": [
    "### 6.2 linspace, logspace"
   ]
  },
  {
   "cell_type": "markdown",
   "metadata": {},
   "source": [
    "#### (1) linspace\n",
    "- 범위 사이를 n-1 등분(point는 n개가 됨) (선형적으로 공간을 나눔)"
   ]
  },
  {
   "cell_type": "code",
   "execution_count": 41,
   "metadata": {},
   "outputs": [
    {
     "data": {
      "text/plain": [
       "array([  0.,  50., 100.])"
      ]
     },
     "execution_count": 41,
     "metadata": {},
     "output_type": "execute_result"
    }
   ],
   "source": [
    "# 0과 100 사이를 3점으로 나눔\n",
    "np.linspace(0, 100, 3) "
   ]
  },
  {
   "cell_type": "code",
   "execution_count": 42,
   "metadata": {},
   "outputs": [
    {
     "data": {
      "text/plain": [
       "array([  0.,  25.,  50.,  75., 100.])"
      ]
     },
     "execution_count": 42,
     "metadata": {},
     "output_type": "execute_result"
    }
   ],
   "source": [
    "# 0과 100 사이를 4점으로 나눔\n",
    "np.linspace(0, 100, 5)"
   ]
  },
  {
   "cell_type": "markdown",
   "metadata": {},
   "source": [
    "#### (2) logspace \n",
    "- log 범위 사이를 n-1 등분(point는 n개가 됨)"
   ]
  },
  {
   "cell_type": "code",
   "execution_count": 45,
   "metadata": {},
   "outputs": [
    {
     "data": {
      "text/plain": [
       "array([  100.,  1000., 10000.])"
      ]
     },
     "execution_count": 45,
     "metadata": {},
     "output_type": "execute_result"
    }
   ],
   "source": [
    "# log10(x1)=2, log10(x2)=3, log10(x3)=4\n",
    "# x1=100, x2=1000, x3=10000\n",
    "np.logspace(2, 4, 3)"
   ]
  },
  {
   "cell_type": "code",
   "execution_count": 46,
   "metadata": {},
   "outputs": [
    {
     "data": {
      "text/plain": [
       "array([ 100.        ,  316.22776602, 1000.        ])"
      ]
     },
     "execution_count": 46,
     "metadata": {},
     "output_type": "execute_result"
    }
   ],
   "source": [
    "# 2, 2.5, 3\n",
    "# log10(x1)=2, log10(x2)=2.5, log10(x3)=4\n",
    "np.logspace(2, 3, 3)"
   ]
  },
  {
   "cell_type": "code",
   "execution_count": 47,
   "metadata": {},
   "outputs": [
    {
     "data": {
      "text/plain": [
       "(100, 316.22776601683796, 1000)"
      ]
     },
     "execution_count": 47,
     "metadata": {},
     "output_type": "execute_result"
    }
   ],
   "source": [
    "10**2, 10**2.5, 10**3"
   ]
  },
  {
   "cell_type": "markdown",
   "metadata": {},
   "source": [
    "### 6.3 random\n",
    "- seed: 랜덤변수의 설정값\n",
    "- rand: 균등분포(uniform)로 난수를 발생시킴\n",
    "- randn: 정규분포(Gaussian)로 난수를 발생시킴\n",
    "- randint: 정수로 난수를 발생시킴 (균등분포)\n",
    "- suffle: 행렬 데이터를 섞어줌\n",
    "- choice: 특정 범위의 숫자를 선택해줌 (확률 설정이 가능)"
   ]
  },
  {
   "cell_type": "markdown",
   "metadata": {},
   "source": [
    "#### (1) seed, rand, randn"
   ]
  },
  {
   "cell_type": "code",
   "execution_count": 58,
   "metadata": {},
   "outputs": [
    {
     "name": "stdout",
     "output_type": "stream",
     "text": [
      "[0.5488135  0.71518937 0.60276338 0.54488318 0.4236548  0.64589411\n",
      " 0.43758721 0.891773   0.96366276 0.38344152]\n",
      "[ 0.14404357  1.45427351  0.76103773  0.12167502  0.44386323  0.33367433\n",
      "  1.49407907 -0.20515826  0.3130677  -0.85409574]\n"
     ]
    }
   ],
   "source": [
    "np.random.seed(0)\n",
    "rd = np.random.rand(10)       # uniform 으로 난수 발생 (균등분포)\n",
    "rdn = np.random.randn(10)     # gaussian 으로 난수 발생 (정규분포 - 0에 가까운수가 많이 나옴)\n",
    "print(rd)\n",
    "print(rdn)"
   ]
  },
  {
   "cell_type": "code",
   "execution_count": 20,
   "metadata": {},
   "outputs": [
    {
     "name": "stdout",
     "output_type": "stream",
     "text": [
      "[4.17022005e-01 7.20324493e-01 1.14374817e-04 3.02332573e-01\n",
      " 1.46755891e-01 9.23385948e-02 1.86260211e-01 3.45560727e-01\n",
      " 3.96767474e-01 5.38816734e-01]\n",
      "[ 1.74481176 -0.7612069   0.3190391  -0.24937038  1.46210794 -2.06014071\n",
      " -0.3224172  -0.38405435  1.13376944 -1.09989127]\n"
     ]
    }
   ],
   "source": [
    "# seed 값을 바꾸면 다른 값이 나옴\n",
    "np.random.seed(1)\n",
    "rd = np.random.rand(10) \n",
    "rdn = np.random.randn(10) \n",
    "print(rd)\n",
    "print(rdn)"
   ]
  },
  {
   "cell_type": "code",
   "execution_count": 21,
   "metadata": {},
   "outputs": [
    {
     "name": "stdout",
     "output_type": "stream",
     "text": [
      "[4.17022005e-01 7.20324493e-01 1.14374817e-04 3.02332573e-01]\n",
      "[-0.52817175 -1.07296862  0.86540763 -2.3015387 ]\n"
     ]
    }
   ],
   "source": [
    "np.random.seed(1)\n",
    "rd = np.random.rand(4)\n",
    "rdn = np.random.randn(4)\n",
    "print(rd)\n",
    "print(rdn)"
   ]
  },
  {
   "cell_type": "code",
   "execution_count": 22,
   "metadata": {},
   "outputs": [
    {
     "data": {
      "text/plain": [
       "array([[[0.41919451, 0.6852195 , 0.20445225, 0.87811744],\n",
       "        [0.02738759, 0.67046751, 0.4173048 , 0.55868983],\n",
       "        [0.14038694, 0.19810149, 0.80074457, 0.96826158]],\n",
       "\n",
       "       [[0.31342418, 0.69232262, 0.87638915, 0.89460666],\n",
       "        [0.08504421, 0.03905478, 0.16983042, 0.8781425 ],\n",
       "        [0.09834683, 0.42110763, 0.95788953, 0.53316528]]])"
      ]
     },
     "execution_count": 22,
     "metadata": {},
     "output_type": "execute_result"
    }
   ],
   "source": [
    "# rand로 3차원 행렬 만들기\n",
    "r = np.random.rand(2, 3, 4)\n",
    "r"
   ]
  },
  {
   "cell_type": "code",
   "execution_count": 23,
   "metadata": {},
   "outputs": [
    {
     "data": {
      "text/plain": [
       "array([[0.69187711, 0.31551563, 0.68650093],\n",
       "       [0.83462567, 0.01828828, 0.75014431]])"
      ]
     },
     "execution_count": 23,
     "metadata": {},
     "output_type": "execute_result"
    }
   ],
   "source": [
    "# rand로 2차원 행렬 만들기\n",
    "r = np.random.rand(2, 3)\n",
    "r"
   ]
  },
  {
   "cell_type": "markdown",
   "metadata": {},
   "source": [
    "#### (2) randint"
   ]
  },
  {
   "cell_type": "code",
   "execution_count": 49,
   "metadata": {},
   "outputs": [
    {
     "data": {
      "text/plain": [
       "array([[5, 9, 5],\n",
       "       [7, 6, 8],\n",
       "       [8, 8, 7]])"
      ]
     },
     "execution_count": 49,
     "metadata": {},
     "output_type": "execute_result"
    }
   ],
   "source": [
    "r = np.random.randint(5,10,(3,3))\n",
    "r"
   ]
  },
  {
   "cell_type": "code",
   "execution_count": 109,
   "metadata": {},
   "outputs": [
    {
     "data": {
      "text/plain": [
       "array([[4, 2, 4],\n",
       "       [4, 3, 3],\n",
       "       [1, 1, 0]])"
      ]
     },
     "execution_count": 109,
     "metadata": {},
     "output_type": "execute_result"
    }
   ],
   "source": [
    "r = np.random.randint(5,size=(3,3))\n",
    "r"
   ]
  },
  {
   "cell_type": "markdown",
   "metadata": {},
   "source": [
    "#### (3) shuffle\n",
    "- 데이터의 순서를 바꿀수 있음\n",
    "- 행의 순서만 바뀜 (행 안의 데이터는 바뀌지 않음)\n",
    "- 데이터를 다 바꾸려면? 1열로 reshape 후 shuffle, 그 후 다시 reshape"
   ]
  },
  {
   "cell_type": "code",
   "execution_count": 110,
   "metadata": {},
   "outputs": [
    {
     "data": {
      "text/plain": [
       "array([[4, 2, 4],\n",
       "       [4, 3, 3],\n",
       "       [1, 1, 0]])"
      ]
     },
     "execution_count": 110,
     "metadata": {},
     "output_type": "execute_result"
    }
   ],
   "source": [
    "r"
   ]
  },
  {
   "cell_type": "code",
   "execution_count": 111,
   "metadata": {},
   "outputs": [
    {
     "data": {
      "text/plain": [
       "array([[1, 1, 0],\n",
       "       [4, 3, 3],\n",
       "       [4, 2, 4]])"
      ]
     },
     "execution_count": 111,
     "metadata": {},
     "output_type": "execute_result"
    }
   ],
   "source": [
    "np.random.shuffle(r)\n",
    "r"
   ]
  },
  {
   "cell_type": "code",
   "execution_count": 118,
   "metadata": {},
   "outputs": [
    {
     "data": {
      "text/plain": [
       "array([[4, 2, 0],\n",
       "       [3, 4, 3],\n",
       "       [1, 4, 1]])"
      ]
     },
     "execution_count": 118,
     "metadata": {},
     "output_type": "execute_result"
    }
   ],
   "source": [
    "# 데이터를 전부 뒤섞기\n",
    "r = r.reshape(9 ,1)\n",
    "np.random.shuffle(r)\n",
    "r = r.reshape(3,3)\n",
    "r"
   ]
  },
  {
   "cell_type": "markdown",
   "metadata": {},
   "source": [
    "#### (4) choice"
   ]
  },
  {
   "cell_type": "code",
   "execution_count": 116,
   "metadata": {
    "scrolled": true
   },
   "outputs": [
    {
     "name": "stdout",
     "output_type": "stream",
     "text": [
      "[0, 1, 2, 3, 4]\n",
      "[0.1, 0, 0.4, 0.2, 0.3]\n"
     ]
    },
    {
     "data": {
      "text/plain": [
       "array([3, 4, 0, 2, 4, 2, 0, 2, 2, 2], dtype=int64)"
      ]
     },
     "execution_count": 116,
     "metadata": {},
     "output_type": "execute_result"
    }
   ],
   "source": [
    "# p의 확률로 range(5)를 10개 추출\n",
    "print(list(range(5)))\n",
    "print([0.1, 0, 0.4, 0.2, 0.3])\n",
    "np.random.choice(5, 10, p=[0.1, 0, 0.4, 0.2, 0.3]) \n",
    "    # p= 0나올 확률, 1나올 확률, 2 나올 확률, 3 나올 확률, 4 나올 확률"
   ]
  }
 ],
 "metadata": {
  "kernelspec": {
   "display_name": "Python 3",
   "language": "python",
   "name": "python3"
  },
  "language_info": {
   "codemirror_mode": {
    "name": "ipython",
    "version": 3
   },
   "file_extension": ".py",
   "mimetype": "text/x-python",
   "name": "python",
   "nbconvert_exporter": "python",
   "pygments_lexer": "ipython3",
   "version": "3.6.5"
  }
 },
 "nbformat": 4,
 "nbformat_minor": 2
}
